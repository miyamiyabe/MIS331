{
  "cells": [
    {
      "cell_type": "markdown",
      "metadata": {
        "id": "view-in-github",
        "colab_type": "text"
      },
      "source": [
        "<a href=\"https://colab.research.google.com/github/miyamiyabe/MIS331/blob/main/BMIS331_Final_Project.ipynb\" target=\"_parent\"><img src=\"https://colab.research.google.com/assets/colab-badge.svg\" alt=\"Open In Colab\"/></a>"
      ]
    },
    {
      "cell_type": "code",
      "execution_count": null,
      "metadata": {
        "colab": {
          "base_uri": "https://localhost:8080/"
        },
        "id": "gmxzYd5lMVAO",
        "outputId": "573d8389-32ed-4b6a-825a-47d673b6f9c6"
      },
      "outputs": [
        {
          "output_type": "stream",
          "name": "stdout",
          "text": [
            "Enter the country name that you want to convert from: USD\n",
            "Currency code not found. Please type the common name of the country. Ex: U.S. United States\n",
            "Enter the country name that you want to convert from: United States\n",
            "Enter the country name that you want to convert to: Japan\n",
            "Amount: 1\n",
            "1 USD is 155.61 JPY\n"
          ]
        }
      ],
      "source": [
        "import pandas as pd\n",
        "import csv\n",
        "\n",
        "def load_currency_codes_from_google_sheet(google_sheet_id):\n",
        "    # Construct the API link\n",
        "    api_link = f\"https://docs.google.com/spreadsheets/d/{google_sheet_id}/gviz/tq?tqx=out:csv\"\n",
        "\n",
        "    # Read the data from the API link into a pandas dataframe\n",
        "    df = pd.read_csv(api_link)\n",
        "\n",
        "    # Convert the dataframe to a dictionary\n",
        "    currency_codes = dict(zip(df['CountryName'], df['Code']))\n",
        "\n",
        "    return currency_codes\n",
        "\n",
        "def get_currency_code(country_name, currency_codes):\n",
        "    return currency_codes.get(country_name, \"Not found\")\n",
        "\n",
        "# Google Sheets ID\n",
        "google_sheet_id = \"1apuhth4peoyK-UbQY5xTvvwdMatdkZPD5OUBLNjIlYE\"\n",
        "\n",
        "# Load currency codes from Google Sheets\n",
        "currency_codes = load_currency_codes_from_google_sheet(google_sheet_id)\n",
        "\n",
        "from_country_name = input(\"Enter the country name that you want to convert from: \")\n",
        "\n",
        "from_country_code = get_currency_code(from_country_name, currency_codes)\n",
        "\n",
        "if from_country_code == \"Not found\":\n",
        "    print(f\"Currency code not found. Please type the common name of the country. Ex: U.S. United States\")\n",
        "    from_country_name = input(\"Enter the country name that you want to convert from: \")\n",
        "    from_country_code = get_currency_code(from_country_name, currency_codes)\n",
        "\n",
        "to_country_name = input(\"Enter the country name that you want to convert to: \")\n",
        "\n",
        "to_country_code = get_currency_code(to_country_name, currency_codes)\n",
        "\n",
        "if to_country_code == \"Not found\":\n",
        "    print(f\"Currency code not found. Please type the common name of the country. Ex: U.S. United States\")\n",
        "    to_country_name = input(\"Enter the country name that you want to convert to: \")\n",
        "    to_country_code = get_currency_code(to_country_name, currency_codes)\n",
        "\n",
        "\n",
        "\n",
        "  #CurrencyCode Converter\n",
        "\n",
        "import requests\n",
        "url = 'http://api.exchangeratesapi.io/v1/latest?access_key=96db186baf3a08d762372b34f9226864'\n",
        "\n",
        "#Define a function to handle currency conversion\n",
        "def currency_conversion():\n",
        "    #Prompt user to imput source currency\n",
        "    from_currency = from_country_code\n",
        "    #Promt user to input target currency\n",
        "    to_currency = to_country_code\n",
        "    #Promt user to input amount to convert\n",
        "    amount = int(input('Amount: '))\n",
        "\n",
        "    #Send an HTTP GET request to the API endpoint\n",
        "    response = requests.get(url)\n",
        "    #Extract exchange rate for source currency\n",
        "    rate = response.json()['rates'][from_currency]\n",
        "\n",
        "    #Convert amount to equivalent amount in Euros\n",
        "    amount_in_EUR = amount/rate\n",
        "    #Convert amount to target currency\n",
        "    new_amount = amount_in_EUR * (response.json()['rates'][to_currency])\n",
        "\n",
        "    #Round converted amount to two decimal\n",
        "    new_amount = round(new_amount,2)\n",
        "    #write a statement\n",
        "    print(f\"{amount} {from_currency} is {new_amount} {to_currency}\")\n",
        "\n",
        "#Call the function to start the currency conversion\n",
        "currency_conversion()\n"
      ]
    }
  ],
  "metadata": {
    "colab": {
      "provenance": [],
      "authorship_tag": "ABX9TyOp8oFzWLtvA3cpn7Z5DgyD",
      "include_colab_link": true
    },
    "kernelspec": {
      "display_name": "Python 3",
      "name": "python3"
    },
    "language_info": {
      "name": "python"
    }
  },
  "nbformat": 4,
  "nbformat_minor": 0
}